{
 "cells": [
  {
   "cell_type": "markdown",
   "metadata": {},
   "source": [
    "## Predictive Insights for Reducing Customer Churn"
   ]
  },
  {
   "cell_type": "markdown",
   "metadata": {},
   "source": [
    "### Overview"
   ]
  },
  {
   "cell_type": "markdown",
   "metadata": {},
   "source": [
    "This a strategic initiative undertaken by SyriaTel, a prominent telecommunications company, to tackle the challenge of customer attrition. The main objective of this initiative is to uncover the intricate web of factors that contribute to customer churn and predict which subscribers are likely to discontinue their services. Armed with a wealth of customer data, ranging from demographics and subscription details to usage patterns and support interactions, SyriaTel is on a quest to unlock predictive insights. The ultimate goal is to empower SyriaTel with the ability to take proactive measures to retain at-risk customers and optimize their service offerings, thereby reducing revenue loss and enhancing overall customer satisfaction."
   ]
  },
  {
   "cell_type": "markdown",
   "metadata": {},
   "source": [
    "## Business Problem"
   ]
  },
  {
   "cell_type": "markdown",
   "metadata": {},
   "source": [
    "### Stakeholder - SyriaTel Company"
   ]
  },
  {
   "cell_type": "markdown",
   "metadata": {},
   "source": [
    "In a competitive telecom market, SyriaTel faces a critical business problem which is escalating customer churn rates, driven by undisclosed customer dissatisfaction and suboptimal service experiences. With an ever-expanding array of services and plans, the company is challenged to understand and predict why certain subscribers decide to leave. This surge in customer attrition not only impacts SyriaTel's revenue but also casts a shadow over its reputation. The business problem at hand is to proactively identify those customers at risk of churning by decoding the intricate blend of demographic, usage, and interaction data. SyriaTel aims to transform this challenge into an opportunity by deploying predictive insights to enhance customer retention, thereby securing a competitive edge in the telecommunications industry."
   ]
  },
  {
   "cell_type": "markdown",
   "metadata": {},
   "source": [
    "## Data Understanding"
   ]
  },
  {
   "cell_type": "markdown",
   "metadata": {},
   "source": [
    "The dataset for the SyriaTel customer retention project comprises an array of features that offer insight into customer behavior and its impact on churn. These features include geographic indicators like state and area code, historical account length, communication preferences such as voicemail messages, and usage patterns during different times of the day (day and evening minutes, calls, and charges). International and nighttime usage metrics are also recorded, along with customer service interactions and the crucial 'Churn' variable, which signifies customer disengagement. By delving into this dataset, SyriaTel aims to uncover predictive insights that will enable them to proactively address churn and enhance customer retention, ultimately strengthening their position in the telecommunications industry."
   ]
  },
  {
   "cell_type": "code",
   "execution_count": 1,
   "metadata": {},
   "outputs": [],
   "source": [
    "# import the neccessary libraries\n",
    "import pandas as pd\n",
    "import numpy as np\n",
    "import seaborn as sns\n",
    "import matplotlib.pyplot as plt\n",
    "%matplotlib inline\n",
    "\n",
    "from sklearn.preprocessing import OneHotEncoder, StandardScaler, FunctionTransformer, MinMaxScaler\n",
    "\n",
    "from sklearn.dummy import DummyClassifier\n",
    "from sklearn.tree import DecisionTreeClassifier\n",
    "\n",
    "from sklearn.metrics import accuracy_score, precision_score, recall_score, f1_score\n",
    "from sklearn.metrics import accuracy_score, roc_curve, auc, roc_auc_score\n",
    "\n",
    "from sklearn.model_selection import train_test_split, cross_val_score\n",
    "\n",
    "from sklearn import tree"
   ]
  },
  {
   "cell_type": "code",
   "execution_count": 2,
   "metadata": {},
   "outputs": [
    {
     "data": {
      "text/html": [
       "<div>\n",
       "<style scoped>\n",
       "    .dataframe tbody tr th:only-of-type {\n",
       "        vertical-align: middle;\n",
       "    }\n",
       "\n",
       "    .dataframe tbody tr th {\n",
       "        vertical-align: top;\n",
       "    }\n",
       "\n",
       "    .dataframe thead th {\n",
       "        text-align: right;\n",
       "    }\n",
       "</style>\n",
       "<table border=\"1\" class=\"dataframe\">\n",
       "  <thead>\n",
       "    <tr style=\"text-align: right;\">\n",
       "      <th></th>\n",
       "      <th>state</th>\n",
       "      <th>account length</th>\n",
       "      <th>area code</th>\n",
       "      <th>phone number</th>\n",
       "      <th>international plan</th>\n",
       "      <th>voice mail plan</th>\n",
       "      <th>number vmail messages</th>\n",
       "      <th>total day minutes</th>\n",
       "      <th>total day calls</th>\n",
       "      <th>total day charge</th>\n",
       "      <th>...</th>\n",
       "      <th>total eve calls</th>\n",
       "      <th>total eve charge</th>\n",
       "      <th>total night minutes</th>\n",
       "      <th>total night calls</th>\n",
       "      <th>total night charge</th>\n",
       "      <th>total intl minutes</th>\n",
       "      <th>total intl calls</th>\n",
       "      <th>total intl charge</th>\n",
       "      <th>customer service calls</th>\n",
       "      <th>churn</th>\n",
       "    </tr>\n",
       "  </thead>\n",
       "  <tbody>\n",
       "    <tr>\n",
       "      <th>0</th>\n",
       "      <td>KS</td>\n",
       "      <td>128</td>\n",
       "      <td>415</td>\n",
       "      <td>382-4657</td>\n",
       "      <td>no</td>\n",
       "      <td>yes</td>\n",
       "      <td>25</td>\n",
       "      <td>265.1</td>\n",
       "      <td>110</td>\n",
       "      <td>45.07</td>\n",
       "      <td>...</td>\n",
       "      <td>99</td>\n",
       "      <td>16.78</td>\n",
       "      <td>244.7</td>\n",
       "      <td>91</td>\n",
       "      <td>11.01</td>\n",
       "      <td>10.0</td>\n",
       "      <td>3</td>\n",
       "      <td>2.70</td>\n",
       "      <td>1</td>\n",
       "      <td>False</td>\n",
       "    </tr>\n",
       "    <tr>\n",
       "      <th>1</th>\n",
       "      <td>OH</td>\n",
       "      <td>107</td>\n",
       "      <td>415</td>\n",
       "      <td>371-7191</td>\n",
       "      <td>no</td>\n",
       "      <td>yes</td>\n",
       "      <td>26</td>\n",
       "      <td>161.6</td>\n",
       "      <td>123</td>\n",
       "      <td>27.47</td>\n",
       "      <td>...</td>\n",
       "      <td>103</td>\n",
       "      <td>16.62</td>\n",
       "      <td>254.4</td>\n",
       "      <td>103</td>\n",
       "      <td>11.45</td>\n",
       "      <td>13.7</td>\n",
       "      <td>3</td>\n",
       "      <td>3.70</td>\n",
       "      <td>1</td>\n",
       "      <td>False</td>\n",
       "    </tr>\n",
       "    <tr>\n",
       "      <th>2</th>\n",
       "      <td>NJ</td>\n",
       "      <td>137</td>\n",
       "      <td>415</td>\n",
       "      <td>358-1921</td>\n",
       "      <td>no</td>\n",
       "      <td>no</td>\n",
       "      <td>0</td>\n",
       "      <td>243.4</td>\n",
       "      <td>114</td>\n",
       "      <td>41.38</td>\n",
       "      <td>...</td>\n",
       "      <td>110</td>\n",
       "      <td>10.30</td>\n",
       "      <td>162.6</td>\n",
       "      <td>104</td>\n",
       "      <td>7.32</td>\n",
       "      <td>12.2</td>\n",
       "      <td>5</td>\n",
       "      <td>3.29</td>\n",
       "      <td>0</td>\n",
       "      <td>False</td>\n",
       "    </tr>\n",
       "    <tr>\n",
       "      <th>3</th>\n",
       "      <td>OH</td>\n",
       "      <td>84</td>\n",
       "      <td>408</td>\n",
       "      <td>375-9999</td>\n",
       "      <td>yes</td>\n",
       "      <td>no</td>\n",
       "      <td>0</td>\n",
       "      <td>299.4</td>\n",
       "      <td>71</td>\n",
       "      <td>50.90</td>\n",
       "      <td>...</td>\n",
       "      <td>88</td>\n",
       "      <td>5.26</td>\n",
       "      <td>196.9</td>\n",
       "      <td>89</td>\n",
       "      <td>8.86</td>\n",
       "      <td>6.6</td>\n",
       "      <td>7</td>\n",
       "      <td>1.78</td>\n",
       "      <td>2</td>\n",
       "      <td>False</td>\n",
       "    </tr>\n",
       "    <tr>\n",
       "      <th>4</th>\n",
       "      <td>OK</td>\n",
       "      <td>75</td>\n",
       "      <td>415</td>\n",
       "      <td>330-6626</td>\n",
       "      <td>yes</td>\n",
       "      <td>no</td>\n",
       "      <td>0</td>\n",
       "      <td>166.7</td>\n",
       "      <td>113</td>\n",
       "      <td>28.34</td>\n",
       "      <td>...</td>\n",
       "      <td>122</td>\n",
       "      <td>12.61</td>\n",
       "      <td>186.9</td>\n",
       "      <td>121</td>\n",
       "      <td>8.41</td>\n",
       "      <td>10.1</td>\n",
       "      <td>3</td>\n",
       "      <td>2.73</td>\n",
       "      <td>3</td>\n",
       "      <td>False</td>\n",
       "    </tr>\n",
       "  </tbody>\n",
       "</table>\n",
       "<p>5 rows × 21 columns</p>\n",
       "</div>"
      ],
      "text/plain": [
       "  state  account length  area code phone number international plan  \\\n",
       "0    KS             128        415     382-4657                 no   \n",
       "1    OH             107        415     371-7191                 no   \n",
       "2    NJ             137        415     358-1921                 no   \n",
       "3    OH              84        408     375-9999                yes   \n",
       "4    OK              75        415     330-6626                yes   \n",
       "\n",
       "  voice mail plan  number vmail messages  total day minutes  total day calls  \\\n",
       "0             yes                     25              265.1              110   \n",
       "1             yes                     26              161.6              123   \n",
       "2              no                      0              243.4              114   \n",
       "3              no                      0              299.4               71   \n",
       "4              no                      0              166.7              113   \n",
       "\n",
       "   total day charge  ...  total eve calls  total eve charge  \\\n",
       "0             45.07  ...               99             16.78   \n",
       "1             27.47  ...              103             16.62   \n",
       "2             41.38  ...              110             10.30   \n",
       "3             50.90  ...               88              5.26   \n",
       "4             28.34  ...              122             12.61   \n",
       "\n",
       "   total night minutes  total night calls  total night charge  \\\n",
       "0                244.7                 91               11.01   \n",
       "1                254.4                103               11.45   \n",
       "2                162.6                104                7.32   \n",
       "3                196.9                 89                8.86   \n",
       "4                186.9                121                8.41   \n",
       "\n",
       "   total intl minutes  total intl calls  total intl charge  \\\n",
       "0                10.0                 3               2.70   \n",
       "1                13.7                 3               3.70   \n",
       "2                12.2                 5               3.29   \n",
       "3                 6.6                 7               1.78   \n",
       "4                10.1                 3               2.73   \n",
       "\n",
       "   customer service calls  churn  \n",
       "0                       1  False  \n",
       "1                       1  False  \n",
       "2                       0  False  \n",
       "3                       2  False  \n",
       "4                       3  False  \n",
       "\n",
       "[5 rows x 21 columns]"
      ]
     },
     "execution_count": 2,
     "metadata": {},
     "output_type": "execute_result"
    }
   ],
   "source": [
    "# load the data\n",
    "df = pd.read_csv(\"Data/Telecom.csv\")\n",
    "df.head()"
   ]
  },
  {
   "cell_type": "code",
   "execution_count": 3,
   "metadata": {},
   "outputs": [
    {
     "name": "stdout",
     "output_type": "stream",
     "text": [
      "<class 'pandas.core.frame.DataFrame'>\n",
      "RangeIndex: 3333 entries, 0 to 3332\n",
      "Data columns (total 21 columns):\n",
      " #   Column                  Non-Null Count  Dtype  \n",
      "---  ------                  --------------  -----  \n",
      " 0   state                   3333 non-null   object \n",
      " 1   account length          3333 non-null   int64  \n",
      " 2   area code               3333 non-null   int64  \n",
      " 3   phone number            3333 non-null   object \n",
      " 4   international plan      3333 non-null   object \n",
      " 5   voice mail plan         3333 non-null   object \n",
      " 6   number vmail messages   3333 non-null   int64  \n",
      " 7   total day minutes       3333 non-null   float64\n",
      " 8   total day calls         3333 non-null   int64  \n",
      " 9   total day charge        3333 non-null   float64\n",
      " 10  total eve minutes       3333 non-null   float64\n",
      " 11  total eve calls         3333 non-null   int64  \n",
      " 12  total eve charge        3333 non-null   float64\n",
      " 13  total night minutes     3333 non-null   float64\n",
      " 14  total night calls       3333 non-null   int64  \n",
      " 15  total night charge      3333 non-null   float64\n",
      " 16  total intl minutes      3333 non-null   float64\n",
      " 17  total intl calls        3333 non-null   int64  \n",
      " 18  total intl charge       3333 non-null   float64\n",
      " 19  customer service calls  3333 non-null   int64  \n",
      " 20  churn                   3333 non-null   bool   \n",
      "dtypes: bool(1), float64(8), int64(8), object(4)\n",
      "memory usage: 524.2+ KB\n"
     ]
    }
   ],
   "source": [
    "# summary of the dataframe\n",
    "df.info()"
   ]
  },
  {
   "cell_type": "code",
   "execution_count": 4,
   "metadata": {
    "scrolled": true
   },
   "outputs": [
    {
     "data": {
      "text/html": [
       "<div>\n",
       "<style scoped>\n",
       "    .dataframe tbody tr th:only-of-type {\n",
       "        vertical-align: middle;\n",
       "    }\n",
       "\n",
       "    .dataframe tbody tr th {\n",
       "        vertical-align: top;\n",
       "    }\n",
       "\n",
       "    .dataframe thead th {\n",
       "        text-align: right;\n",
       "    }\n",
       "</style>\n",
       "<table border=\"1\" class=\"dataframe\">\n",
       "  <thead>\n",
       "    <tr style=\"text-align: right;\">\n",
       "      <th></th>\n",
       "      <th>count</th>\n",
       "      <th>mean</th>\n",
       "      <th>std</th>\n",
       "      <th>min</th>\n",
       "      <th>25%</th>\n",
       "      <th>50%</th>\n",
       "      <th>75%</th>\n",
       "      <th>max</th>\n",
       "    </tr>\n",
       "  </thead>\n",
       "  <tbody>\n",
       "    <tr>\n",
       "      <th>account length</th>\n",
       "      <td>3333.0</td>\n",
       "      <td>101.064806</td>\n",
       "      <td>39.822106</td>\n",
       "      <td>1.00</td>\n",
       "      <td>74.00</td>\n",
       "      <td>101.00</td>\n",
       "      <td>127.00</td>\n",
       "      <td>243.00</td>\n",
       "    </tr>\n",
       "    <tr>\n",
       "      <th>area code</th>\n",
       "      <td>3333.0</td>\n",
       "      <td>437.182418</td>\n",
       "      <td>42.371290</td>\n",
       "      <td>408.00</td>\n",
       "      <td>408.00</td>\n",
       "      <td>415.00</td>\n",
       "      <td>510.00</td>\n",
       "      <td>510.00</td>\n",
       "    </tr>\n",
       "    <tr>\n",
       "      <th>number vmail messages</th>\n",
       "      <td>3333.0</td>\n",
       "      <td>8.099010</td>\n",
       "      <td>13.688365</td>\n",
       "      <td>0.00</td>\n",
       "      <td>0.00</td>\n",
       "      <td>0.00</td>\n",
       "      <td>20.00</td>\n",
       "      <td>51.00</td>\n",
       "    </tr>\n",
       "    <tr>\n",
       "      <th>total day minutes</th>\n",
       "      <td>3333.0</td>\n",
       "      <td>179.775098</td>\n",
       "      <td>54.467389</td>\n",
       "      <td>0.00</td>\n",
       "      <td>143.70</td>\n",
       "      <td>179.40</td>\n",
       "      <td>216.40</td>\n",
       "      <td>350.80</td>\n",
       "    </tr>\n",
       "    <tr>\n",
       "      <th>total day calls</th>\n",
       "      <td>3333.0</td>\n",
       "      <td>100.435644</td>\n",
       "      <td>20.069084</td>\n",
       "      <td>0.00</td>\n",
       "      <td>87.00</td>\n",
       "      <td>101.00</td>\n",
       "      <td>114.00</td>\n",
       "      <td>165.00</td>\n",
       "    </tr>\n",
       "    <tr>\n",
       "      <th>total day charge</th>\n",
       "      <td>3333.0</td>\n",
       "      <td>30.562307</td>\n",
       "      <td>9.259435</td>\n",
       "      <td>0.00</td>\n",
       "      <td>24.43</td>\n",
       "      <td>30.50</td>\n",
       "      <td>36.79</td>\n",
       "      <td>59.64</td>\n",
       "    </tr>\n",
       "    <tr>\n",
       "      <th>total eve minutes</th>\n",
       "      <td>3333.0</td>\n",
       "      <td>200.980348</td>\n",
       "      <td>50.713844</td>\n",
       "      <td>0.00</td>\n",
       "      <td>166.60</td>\n",
       "      <td>201.40</td>\n",
       "      <td>235.30</td>\n",
       "      <td>363.70</td>\n",
       "    </tr>\n",
       "    <tr>\n",
       "      <th>total eve calls</th>\n",
       "      <td>3333.0</td>\n",
       "      <td>100.114311</td>\n",
       "      <td>19.922625</td>\n",
       "      <td>0.00</td>\n",
       "      <td>87.00</td>\n",
       "      <td>100.00</td>\n",
       "      <td>114.00</td>\n",
       "      <td>170.00</td>\n",
       "    </tr>\n",
       "    <tr>\n",
       "      <th>total eve charge</th>\n",
       "      <td>3333.0</td>\n",
       "      <td>17.083540</td>\n",
       "      <td>4.310668</td>\n",
       "      <td>0.00</td>\n",
       "      <td>14.16</td>\n",
       "      <td>17.12</td>\n",
       "      <td>20.00</td>\n",
       "      <td>30.91</td>\n",
       "    </tr>\n",
       "    <tr>\n",
       "      <th>total night minutes</th>\n",
       "      <td>3333.0</td>\n",
       "      <td>200.872037</td>\n",
       "      <td>50.573847</td>\n",
       "      <td>23.20</td>\n",
       "      <td>167.00</td>\n",
       "      <td>201.20</td>\n",
       "      <td>235.30</td>\n",
       "      <td>395.00</td>\n",
       "    </tr>\n",
       "    <tr>\n",
       "      <th>total night calls</th>\n",
       "      <td>3333.0</td>\n",
       "      <td>100.107711</td>\n",
       "      <td>19.568609</td>\n",
       "      <td>33.00</td>\n",
       "      <td>87.00</td>\n",
       "      <td>100.00</td>\n",
       "      <td>113.00</td>\n",
       "      <td>175.00</td>\n",
       "    </tr>\n",
       "    <tr>\n",
       "      <th>total night charge</th>\n",
       "      <td>3333.0</td>\n",
       "      <td>9.039325</td>\n",
       "      <td>2.275873</td>\n",
       "      <td>1.04</td>\n",
       "      <td>7.52</td>\n",
       "      <td>9.05</td>\n",
       "      <td>10.59</td>\n",
       "      <td>17.77</td>\n",
       "    </tr>\n",
       "    <tr>\n",
       "      <th>total intl minutes</th>\n",
       "      <td>3333.0</td>\n",
       "      <td>10.237294</td>\n",
       "      <td>2.791840</td>\n",
       "      <td>0.00</td>\n",
       "      <td>8.50</td>\n",
       "      <td>10.30</td>\n",
       "      <td>12.10</td>\n",
       "      <td>20.00</td>\n",
       "    </tr>\n",
       "    <tr>\n",
       "      <th>total intl calls</th>\n",
       "      <td>3333.0</td>\n",
       "      <td>4.479448</td>\n",
       "      <td>2.461214</td>\n",
       "      <td>0.00</td>\n",
       "      <td>3.00</td>\n",
       "      <td>4.00</td>\n",
       "      <td>6.00</td>\n",
       "      <td>20.00</td>\n",
       "    </tr>\n",
       "    <tr>\n",
       "      <th>total intl charge</th>\n",
       "      <td>3333.0</td>\n",
       "      <td>2.764581</td>\n",
       "      <td>0.753773</td>\n",
       "      <td>0.00</td>\n",
       "      <td>2.30</td>\n",
       "      <td>2.78</td>\n",
       "      <td>3.27</td>\n",
       "      <td>5.40</td>\n",
       "    </tr>\n",
       "    <tr>\n",
       "      <th>customer service calls</th>\n",
       "      <td>3333.0</td>\n",
       "      <td>1.562856</td>\n",
       "      <td>1.315491</td>\n",
       "      <td>0.00</td>\n",
       "      <td>1.00</td>\n",
       "      <td>1.00</td>\n",
       "      <td>2.00</td>\n",
       "      <td>9.00</td>\n",
       "    </tr>\n",
       "  </tbody>\n",
       "</table>\n",
       "</div>"
      ],
      "text/plain": [
       "                         count        mean        std     min     25%     50%  \\\n",
       "account length          3333.0  101.064806  39.822106    1.00   74.00  101.00   \n",
       "area code               3333.0  437.182418  42.371290  408.00  408.00  415.00   \n",
       "number vmail messages   3333.0    8.099010  13.688365    0.00    0.00    0.00   \n",
       "total day minutes       3333.0  179.775098  54.467389    0.00  143.70  179.40   \n",
       "total day calls         3333.0  100.435644  20.069084    0.00   87.00  101.00   \n",
       "total day charge        3333.0   30.562307   9.259435    0.00   24.43   30.50   \n",
       "total eve minutes       3333.0  200.980348  50.713844    0.00  166.60  201.40   \n",
       "total eve calls         3333.0  100.114311  19.922625    0.00   87.00  100.00   \n",
       "total eve charge        3333.0   17.083540   4.310668    0.00   14.16   17.12   \n",
       "total night minutes     3333.0  200.872037  50.573847   23.20  167.00  201.20   \n",
       "total night calls       3333.0  100.107711  19.568609   33.00   87.00  100.00   \n",
       "total night charge      3333.0    9.039325   2.275873    1.04    7.52    9.05   \n",
       "total intl minutes      3333.0   10.237294   2.791840    0.00    8.50   10.30   \n",
       "total intl calls        3333.0    4.479448   2.461214    0.00    3.00    4.00   \n",
       "total intl charge       3333.0    2.764581   0.753773    0.00    2.30    2.78   \n",
       "customer service calls  3333.0    1.562856   1.315491    0.00    1.00    1.00   \n",
       "\n",
       "                           75%     max  \n",
       "account length          127.00  243.00  \n",
       "area code               510.00  510.00  \n",
       "number vmail messages    20.00   51.00  \n",
       "total day minutes       216.40  350.80  \n",
       "total day calls         114.00  165.00  \n",
       "total day charge         36.79   59.64  \n",
       "total eve minutes       235.30  363.70  \n",
       "total eve calls         114.00  170.00  \n",
       "total eve charge         20.00   30.91  \n",
       "total night minutes     235.30  395.00  \n",
       "total night calls       113.00  175.00  \n",
       "total night charge       10.59   17.77  \n",
       "total intl minutes       12.10   20.00  \n",
       "total intl calls          6.00   20.00  \n",
       "total intl charge         3.27    5.40  \n",
       "customer service calls    2.00    9.00  "
      ]
     },
     "execution_count": 4,
     "metadata": {},
     "output_type": "execute_result"
    }
   ],
   "source": [
    "# summary statistics of the dataframe\n",
    "df.describe().T"
   ]
  },
  {
   "cell_type": "markdown",
   "metadata": {},
   "source": [
    "## Data Visualization"
   ]
  },
  {
   "cell_type": "code",
   "execution_count": 5,
   "metadata": {},
   "outputs": [
    {
     "data": {
      "text/plain": [
       "account length            0.016541\n",
       "area code                 0.006174\n",
       "number vmail messages    -0.089728\n",
       "total day minutes         0.205151\n",
       "total day calls           0.018459\n",
       "total day charge          0.205151\n",
       "total eve minutes         0.092796\n",
       "total eve calls           0.009233\n",
       "total eve charge          0.092786\n",
       "total night minutes       0.035493\n",
       "total night calls         0.006141\n",
       "total night charge        0.035496\n",
       "total intl minutes        0.068239\n",
       "total intl calls         -0.052844\n",
       "total intl charge         0.068259\n",
       "customer service calls    0.208750\n",
       "churn                     1.000000\n",
       "Name: churn, dtype: float64"
      ]
     },
     "execution_count": 5,
     "metadata": {},
     "output_type": "execute_result"
    }
   ],
   "source": [
    "# correlation between churn and other variables\n",
    "df.corr()[\"churn\"]"
   ]
  },
  {
   "cell_type": "code",
   "execution_count": 6,
   "metadata": {},
   "outputs": [
    {
     "data": {
      "image/png": "[encoded data removed]",
      "text/plain": [
       "<Figure size 720x432 with 1 Axes>"
      ]
     },
     "metadata": {
      "needs_background": "light"
     },
     "output_type": "display_data"
    }
   ],
   "source": [
    "# Create a cross-tabulation of the variables\n",
    "cross_tab = pd.crosstab(index=[df[\"international plan\"]], columns=df[\"churn\"])\n",
    "\n",
    "# Plot the stacked bar chart\n",
    "cross_tab.plot(kind=\"bar\", stacked=True, colormap=\"RdYlBu\", figsize=(10, 6))\n",
    "plt.title(\"Churn Distribution by International Plan\")\n",
    "plt.xlabel(\"International Plan\")\n",
    "plt.ylabel(\"Count\")\n",
    "plt.legend([\"Not Churned\", \"Churned\"], title=\"Churn\")\n",
    "plt.xticks(rotation=0)\n",
    "plt.show()"
   ]
  },
  {
   "cell_type": "code",
   "execution_count": 7,
   "metadata": {},
   "outputs": [
    {
     "data": {
      "image/png": "[encoded data removed]",
      "text/plain": [
       "<Figure size 720x432 with 1 Axes>"
      ]
     },
     "metadata": {
      "needs_background": "light"
     },
     "output_type": "display_data"
    }
   ],
   "source": [
    "cross_tab = pd.crosstab(index=[df[\"voice mail plan\"]], columns=df[\"churn\"])\n",
    "\n",
    "# Plot the stacked bar chart\n",
    "cross_tab.plot(kind=\"bar\", stacked=True, colormap=\"RdYlBu\", figsize=(10, 6))\n",
    "plt.title(\"Churn Distribution by Voice Mail Plan\")\n",
    "plt.xlabel(\"Voice Mail Plan\")\n",
    "plt.ylabel(\"Count\")\n",
    "plt.legend([\"Not Churned\", \"Churned\"], title=\"Churn\")\n",
    "plt.xticks(rotation=0)\n",
    "plt.show()"
   ]
  },
  {
   "cell_type": "code",
   "execution_count": 8,
   "metadata": {},
   "outputs": [
    {
     "data": {
      "image/png": "[encoded data removed]",
      "text/plain": [
       "<Figure size 864x576 with 5 Axes>"
      ]
     },
     "metadata": {
      "needs_background": "light"
     },
     "output_type": "display_data"
    }
   ],
   "source": [
    "# Create subplots for violin plots\n",
    "plt.figure(figsize=(12, 8))\n",
    "plt.subplots_adjust(wspace=0.5)\n",
    "\n",
    "# Violin Plot for \"total day minutes\"\n",
    "plt.subplot(231)\n",
    "sns.violinplot(x=\"churn\", y=\"total day minutes\", data=df)\n",
    "\n",
    "# Violin Plot for \"total eve minutes\"\n",
    "plt.subplot(232)\n",
    "sns.violinplot(x=\"churn\", y=\"total eve minutes\", data=df)\n",
    "\n",
    "# Violin Plot for \"total night minutes\"\n",
    "plt.subplot(233)\n",
    "sns.violinplot(x=\"churn\", y=\"total night minutes\", data=df)\n",
    "\n",
    "# Violin Plot for \"total intl minutes\"\n",
    "plt.subplot(234)\n",
    "sns.violinplot(x=\"churn\", y=\"total intl minutes\", data=df)\n",
    "\n",
    "# Violin Plot for \"customer service calls\"\n",
    "plt.subplot(235)\n",
    "sns.violinplot(x=\"churn\", y=\"customer service calls\", data=df)\n",
    "\n",
    "plt.show()"
   ]
  },
  {
   "cell_type": "code",
   "execution_count": 9,
   "metadata": {},
   "outputs": [
    {
     "data": {
      "image/png": "[encoded data removed]",
      "text/plain": [
       "<Figure size 576x360 with 1 Axes>"
      ]
     },
     "metadata": {
      "needs_background": "light"
     },
     "output_type": "display_data"
    }
   ],
   "source": [
    "# Separate the data into churned and not churned\n",
    "churned = df[df[\"churn\"] == True]\n",
    "not_churned = df[df[\"churn\"] == False]\n",
    "\n",
    "# Create histograms for churned and not churned customers\n",
    "plt.figure(figsize=(8, 5))\n",
    "plt.hist(churned[\"number vmail messages\"], bins=10, alpha=0.5, label=\"Churned\", color=\"green\")\n",
    "plt.hist(not_churned[\"number vmail messages\"], bins=10, alpha=0.5, label=\"Not Churned\", color=\"blue\")\n",
    "plt.xlabel(\"Number of Voicemail Messages\")\n",
    "plt.ylabel(\"Count\")\n",
    "plt.legend()\n",
    "plt.title(\"Distribution of Voicemail Messages for Churned and Not Churned Customers\")\n",
    "plt.show()"
   ]
  },
  {
   "cell_type": "code",
   "execution_count": 10,
   "metadata": {},
   "outputs": [
    {
     "data": {
      "image/png": "[encoded data removed]",
      "text/plain": [
       "<Figure size 720x432 with 1 Axes>"
      ]
     },
     "metadata": {
      "needs_background": "light"
     },
     "output_type": "display_data"
    }
   ],
   "source": [
    "# Group the data by state and churn, calculate the average number of customer service calls\n",
    "average_calls_by_state = df.groupby([\"state\", \"churn\"])[\"customer service calls\"].mean().reset_index()\n",
    "\n",
    "# Sort the states by average calls in descending order\n",
    "average_calls_by_state = average_calls_by_state.sort_values(by=\"customer service calls\", ascending=False)\n",
    "\n",
    "# Select the top N states with the highest call averages\n",
    "N = 5\n",
    "top_states = average_calls_by_state.head(N)\n",
    "\n",
    "# Create a bar plot showing the average customer service calls for the top N states\n",
    "plt.figure(figsize=(10, 6))\n",
    "sns.barplot(x=\"state\", y=\"customer service calls\", hue=\"churn\", data=top_states, palette=\"Set2\")\n",
    "plt.title(f\"Average Customer Service Calls for Top {N} States (Churned vs. Not Churned)\")\n",
    "plt.xlabel(\"State\")\n",
    "plt.ylabel(\"Average Customer Service Calls\")\n",
    "plt.legend(title=\"Churn\", loc=\"upper right\")\n",
    "plt.show()"
   ]
  },
  {
   "cell_type": "markdown",
   "metadata": {},
   "source": [
    "## Defining x and y"
   ]
  },
  {
   "cell_type": "code",
   "execution_count": 11,
   "metadata": {},
   "outputs": [],
   "source": [
    "y = df[\"churn\"]\n",
    "X = df.drop(\"churn\", axis=1)"
   ]
  },
  {
   "cell_type": "markdown",
   "metadata": {},
   "source": [
    "## Train-Test Split"
   ]
  },
  {
   "cell_type": "code",
   "execution_count": 12,
   "metadata": {},
   "outputs": [],
   "source": [
    "X_train, X_test, y_train, y_test = train_test_split(X, y, test_size=0.2,random_state=42)"
   ]
  },
  {
   "cell_type": "markdown",
   "metadata": {},
   "source": [
    "## Dealing with Categorical Features"
   ]
  },
  {
   "cell_type": "code",
   "execution_count": 13,
   "metadata": {},
   "outputs": [],
   "source": [
    "# create a copy of training data\n",
    "X_train_copy = X_train.copy()"
   ]
  },
  {
   "cell_type": "code",
   "execution_count": 14,
   "metadata": {},
   "outputs": [
    {
     "data": {
      "text/html": [
       "<div>\n",
       "<style scoped>\n",
       "    .dataframe tbody tr th:only-of-type {\n",
       "        vertical-align: middle;\n",
       "    }\n",
       "\n",
       "    .dataframe tbody tr th {\n",
       "        vertical-align: top;\n",
       "    }\n",
       "\n",
       "    .dataframe thead th {\n",
       "        text-align: right;\n",
       "    }\n",
       "</style>\n",
       "<table border=\"1\" class=\"dataframe\">\n",
       "  <thead>\n",
       "    <tr style=\"text-align: right;\">\n",
       "      <th></th>\n",
       "      <th>international plan</th>\n",
       "      <th>voice mail plan</th>\n",
       "    </tr>\n",
       "  </thead>\n",
       "  <tbody>\n",
       "    <tr>\n",
       "      <th>817</th>\n",
       "      <td>no</td>\n",
       "      <td>no</td>\n",
       "    </tr>\n",
       "    <tr>\n",
       "      <th>1373</th>\n",
       "      <td>no</td>\n",
       "      <td>no</td>\n",
       "    </tr>\n",
       "    <tr>\n",
       "      <th>679</th>\n",
       "      <td>yes</td>\n",
       "      <td>no</td>\n",
       "    </tr>\n",
       "    <tr>\n",
       "      <th>56</th>\n",
       "      <td>no</td>\n",
       "      <td>no</td>\n",
       "    </tr>\n",
       "    <tr>\n",
       "      <th>1993</th>\n",
       "      <td>no</td>\n",
       "      <td>no</td>\n",
       "    </tr>\n",
       "    <tr>\n",
       "      <th>...</th>\n",
       "      <td>...</td>\n",
       "      <td>...</td>\n",
       "    </tr>\n",
       "    <tr>\n",
       "      <th>1095</th>\n",
       "      <td>no</td>\n",
       "      <td>no</td>\n",
       "    </tr>\n",
       "    <tr>\n",
       "      <th>1130</th>\n",
       "      <td>no</td>\n",
       "      <td>no</td>\n",
       "    </tr>\n",
       "    <tr>\n",
       "      <th>1294</th>\n",
       "      <td>no</td>\n",
       "      <td>no</td>\n",
       "    </tr>\n",
       "    <tr>\n",
       "      <th>860</th>\n",
       "      <td>no</td>\n",
       "      <td>no</td>\n",
       "    </tr>\n",
       "    <tr>\n",
       "      <th>3174</th>\n",
       "      <td>no</td>\n",
       "      <td>yes</td>\n",
       "    </tr>\n",
       "  </tbody>\n",
       "</table>\n",
       "<p>2666 rows × 2 columns</p>\n",
       "</div>"
      ],
      "text/plain": [
       "     international plan voice mail plan\n",
       "817                  no              no\n",
       "1373                 no              no\n",
       "679                 yes              no\n",
       "56                   no              no\n",
       "1993                 no              no\n",
       "...                 ...             ...\n",
       "1095                 no              no\n",
       "1130                 no              no\n",
       "1294                 no              no\n",
       "860                  no              no\n",
       "3174                 no             yes\n",
       "\n",
       "[2666 rows x 2 columns]"
      ]
     },
     "execution_count": 14,
     "metadata": {},
     "output_type": "execute_result"
    }
   ],
   "source": [
    "# Selecting categorical features, which include \"international plan\" and \"voice mail plan\",\n",
    "# and creating a copy of these features in the training dataset.\n",
    "categorical_features = [\"international plan\", \"voice mail plan\"]\n",
    "X_train_categorical = X_train_copy[categorical_features].copy()\n",
    "X_train_categorical"
   ]
  },
  {
   "cell_type": "code",
   "execution_count": 15,
   "metadata": {
    "scrolled": true
   },
   "outputs": [
    {
     "data": {
      "text/html": [
       "<div>\n",
       "<style scoped>\n",
       "    .dataframe tbody tr th:only-of-type {\n",
       "        vertical-align: middle;\n",
       "    }\n",
       "\n",
       "    .dataframe tbody tr th {\n",
       "        vertical-align: top;\n",
       "    }\n",
       "\n",
       "    .dataframe thead th {\n",
       "        text-align: right;\n",
       "    }\n",
       "</style>\n",
       "<table border=\"1\" class=\"dataframe\">\n",
       "  <thead>\n",
       "    <tr style=\"text-align: right;\">\n",
       "      <th></th>\n",
       "      <th>no</th>\n",
       "      <th>yes</th>\n",
       "      <th>no</th>\n",
       "      <th>yes</th>\n",
       "    </tr>\n",
       "  </thead>\n",
       "  <tbody>\n",
       "    <tr>\n",
       "      <th>817</th>\n",
       "      <td>1.0</td>\n",
       "      <td>0.0</td>\n",
       "      <td>1.0</td>\n",
       "      <td>0.0</td>\n",
       "    </tr>\n",
       "    <tr>\n",
       "      <th>1373</th>\n",
       "      <td>1.0</td>\n",
       "      <td>0.0</td>\n",
       "      <td>1.0</td>\n",
       "      <td>0.0</td>\n",
       "    </tr>\n",
       "    <tr>\n",
       "      <th>679</th>\n",
       "      <td>0.0</td>\n",
       "      <td>1.0</td>\n",
       "      <td>1.0</td>\n",
       "      <td>0.0</td>\n",
       "    </tr>\n",
       "    <tr>\n",
       "      <th>56</th>\n",
       "      <td>1.0</td>\n",
       "      <td>0.0</td>\n",
       "      <td>1.0</td>\n",
       "      <td>0.0</td>\n",
       "    </tr>\n",
       "    <tr>\n",
       "      <th>1993</th>\n",
       "      <td>1.0</td>\n",
       "      <td>0.0</td>\n",
       "      <td>1.0</td>\n",
       "      <td>0.0</td>\n",
       "    </tr>\n",
       "    <tr>\n",
       "      <th>...</th>\n",
       "      <td>...</td>\n",
       "      <td>...</td>\n",
       "      <td>...</td>\n",
       "      <td>...</td>\n",
       "    </tr>\n",
       "    <tr>\n",
       "      <th>1095</th>\n",
       "      <td>1.0</td>\n",
       "      <td>0.0</td>\n",
       "      <td>1.0</td>\n",
       "      <td>0.0</td>\n",
       "    </tr>\n",
       "    <tr>\n",
       "      <th>1130</th>\n",
       "      <td>1.0</td>\n",
       "      <td>0.0</td>\n",
       "      <td>1.0</td>\n",
       "      <td>0.0</td>\n",
       "    </tr>\n",
       "    <tr>\n",
       "      <th>1294</th>\n",
       "      <td>1.0</td>\n",
       "      <td>0.0</td>\n",
       "      <td>1.0</td>\n",
       "      <td>0.0</td>\n",
       "    </tr>\n",
       "    <tr>\n",
       "      <th>860</th>\n",
       "      <td>1.0</td>\n",
       "      <td>0.0</td>\n",
       "      <td>1.0</td>\n",
       "      <td>0.0</td>\n",
       "    </tr>\n",
       "    <tr>\n",
       "      <th>3174</th>\n",
       "      <td>1.0</td>\n",
       "      <td>0.0</td>\n",
       "      <td>0.0</td>\n",
       "      <td>1.0</td>\n",
       "    </tr>\n",
       "  </tbody>\n",
       "</table>\n",
       "<p>2666 rows × 4 columns</p>\n",
       "</div>"
      ],
      "text/plain": [
       "       no  yes   no  yes\n",
       "817   1.0  0.0  1.0  0.0\n",
       "1373  1.0  0.0  1.0  0.0\n",
       "679   0.0  1.0  1.0  0.0\n",
       "56    1.0  0.0  1.0  0.0\n",
       "1993  1.0  0.0  1.0  0.0\n",
       "...   ...  ...  ...  ...\n",
       "1095  1.0  0.0  1.0  0.0\n",
       "1130  1.0  0.0  1.0  0.0\n",
       "1294  1.0  0.0  1.0  0.0\n",
       "860   1.0  0.0  1.0  0.0\n",
       "3174  1.0  0.0  0.0  1.0\n",
       "\n",
       "[2666 rows x 4 columns]"
      ]
     },
     "execution_count": 15,
     "metadata": {},
     "output_type": "execute_result"
    }
   ],
   "source": [
    "# Instantiate OneHotEncoder\n",
    "ohe = OneHotEncoder(sparse=False)\n",
    "\n",
    "# Fit the encoder on the training data\n",
    "ohe.fit(X_train_categorical)\n",
    "\n",
    "# Transform training set\n",
    "X_train_ohe = pd.DataFrame(\n",
    "    ohe.transform(X_train_categorical),\n",
    "    index=X_train_categorical.index,\n",
    "    columns=np.hstack(ohe.categories_)\n",
    ")\n",
    "X_train_ohe"
   ]
  },
  {
   "cell_type": "markdown",
   "metadata": {},
   "source": [
    "## Dealing with Numerical Features"
   ]
  },
  {
   "cell_type": "code",
   "execution_count": 16,
   "metadata": {},
   "outputs": [
    {
     "data": {
      "text/html": [
       "<div>\n",
       "<style scoped>\n",
       "    .dataframe tbody tr th:only-of-type {\n",
       "        vertical-align: middle;\n",
       "    }\n",
       "\n",
       "    .dataframe tbody tr th {\n",
       "        vertical-align: top;\n",
       "    }\n",
       "\n",
       "    .dataframe thead th {\n",
       "        text-align: right;\n",
       "    }\n",
       "</style>\n",
       "<table border=\"1\" class=\"dataframe\">\n",
       "  <thead>\n",
       "    <tr style=\"text-align: right;\">\n",
       "      <th></th>\n",
       "      <th>number vmail messages</th>\n",
       "      <th>total day minutes</th>\n",
       "      <th>total day calls</th>\n",
       "      <th>total day charge</th>\n",
       "      <th>customer service calls</th>\n",
       "    </tr>\n",
       "  </thead>\n",
       "  <tbody>\n",
       "    <tr>\n",
       "      <th>817</th>\n",
       "      <td>0</td>\n",
       "      <td>95.5</td>\n",
       "      <td>92</td>\n",
       "      <td>16.24</td>\n",
       "      <td>2</td>\n",
       "    </tr>\n",
       "    <tr>\n",
       "      <th>1373</th>\n",
       "      <td>0</td>\n",
       "      <td>112.0</td>\n",
       "      <td>105</td>\n",
       "      <td>19.04</td>\n",
       "      <td>4</td>\n",
       "    </tr>\n",
       "    <tr>\n",
       "      <th>679</th>\n",
       "      <td>0</td>\n",
       "      <td>222.4</td>\n",
       "      <td>78</td>\n",
       "      <td>37.81</td>\n",
       "      <td>1</td>\n",
       "    </tr>\n",
       "    <tr>\n",
       "      <th>56</th>\n",
       "      <td>0</td>\n",
       "      <td>126.9</td>\n",
       "      <td>98</td>\n",
       "      <td>21.57</td>\n",
       "      <td>1</td>\n",
       "    </tr>\n",
       "    <tr>\n",
       "      <th>1993</th>\n",
       "      <td>0</td>\n",
       "      <td>216.3</td>\n",
       "      <td>96</td>\n",
       "      <td>36.77</td>\n",
       "      <td>0</td>\n",
       "    </tr>\n",
       "    <tr>\n",
       "      <th>...</th>\n",
       "      <td>...</td>\n",
       "      <td>...</td>\n",
       "      <td>...</td>\n",
       "      <td>...</td>\n",
       "      <td>...</td>\n",
       "    </tr>\n",
       "    <tr>\n",
       "      <th>1095</th>\n",
       "      <td>0</td>\n",
       "      <td>274.4</td>\n",
       "      <td>120</td>\n",
       "      <td>46.65</td>\n",
       "      <td>1</td>\n",
       "    </tr>\n",
       "    <tr>\n",
       "      <th>1130</th>\n",
       "      <td>0</td>\n",
       "      <td>35.1</td>\n",
       "      <td>62</td>\n",
       "      <td>5.97</td>\n",
       "      <td>1</td>\n",
       "    </tr>\n",
       "    <tr>\n",
       "      <th>1294</th>\n",
       "      <td>0</td>\n",
       "      <td>87.6</td>\n",
       "      <td>76</td>\n",
       "      <td>14.89</td>\n",
       "      <td>1</td>\n",
       "    </tr>\n",
       "    <tr>\n",
       "      <th>860</th>\n",
       "      <td>0</td>\n",
       "      <td>179.2</td>\n",
       "      <td>111</td>\n",
       "      <td>30.46</td>\n",
       "      <td>2</td>\n",
       "    </tr>\n",
       "    <tr>\n",
       "      <th>3174</th>\n",
       "      <td>43</td>\n",
       "      <td>29.9</td>\n",
       "      <td>123</td>\n",
       "      <td>5.08</td>\n",
       "      <td>2</td>\n",
       "    </tr>\n",
       "  </tbody>\n",
       "</table>\n",
       "<p>2666 rows × 5 columns</p>\n",
       "</div>"
      ],
      "text/plain": [
       "      number vmail messages  total day minutes  total day calls  \\\n",
       "817                       0               95.5               92   \n",
       "1373                      0              112.0              105   \n",
       "679                       0              222.4               78   \n",
       "56                        0              126.9               98   \n",
       "1993                      0              216.3               96   \n",
       "...                     ...                ...              ...   \n",
       "1095                      0              274.4              120   \n",
       "1130                      0               35.1               62   \n",
       "1294                      0               87.6               76   \n",
       "860                       0              179.2              111   \n",
       "3174                     43               29.9              123   \n",
       "\n",
       "      total day charge  customer service calls  \n",
       "817              16.24                       2  \n",
       "1373             19.04                       4  \n",
       "679              37.81                       1  \n",
       "56               21.57                       1  \n",
       "1993             36.77                       0  \n",
       "...                ...                     ...  \n",
       "1095             46.65                       1  \n",
       "1130              5.97                       1  \n",
       "1294             14.89                       1  \n",
       "860              30.46                       2  \n",
       "3174              5.08                       2  \n",
       "\n",
       "[2666 rows x 5 columns]"
      ]
     },
     "execution_count": 16,
     "metadata": {},
     "output_type": "execute_result"
    }
   ],
   "source": [
    "# Selecting numerical features for further processing in the training dataset.\n",
    "numerical_features = [\"number vmail messages\", \"total day minutes\", \"total day calls\",\n",
    "                      \"total day charge\", \"customer service calls\"]\n",
    "X_train_numerical = X_train_copy[numerical_features].copy()\n",
    "X_train_numerical"
   ]
  },
  {
   "cell_type": "code",
   "execution_count": 17,
   "metadata": {},
   "outputs": [
    {
     "data": {
      "text/html": [
       "<div>\n",
       "<style scoped>\n",
       "    .dataframe tbody tr th:only-of-type {\n",
       "        vertical-align: middle;\n",
       "    }\n",
       "\n",
       "    .dataframe tbody tr th {\n",
       "        vertical-align: top;\n",
       "    }\n",
       "\n",
       "    .dataframe thead th {\n",
       "        text-align: right;\n",
       "    }\n",
       "</style>\n",
       "<table border=\"1\" class=\"dataframe\">\n",
       "  <thead>\n",
       "    <tr style=\"text-align: right;\">\n",
       "      <th></th>\n",
       "      <th>number vmail messages</th>\n",
       "      <th>total day minutes</th>\n",
       "      <th>total day calls</th>\n",
       "      <th>total day charge</th>\n",
       "      <th>customer service calls</th>\n",
       "    </tr>\n",
       "  </thead>\n",
       "  <tbody>\n",
       "    <tr>\n",
       "      <th>817</th>\n",
       "      <td>0.000000</td>\n",
       "      <td>0.266801</td>\n",
       "      <td>0.459259</td>\n",
       "      <td>0.266892</td>\n",
       "      <td>0.222222</td>\n",
       "    </tr>\n",
       "    <tr>\n",
       "      <th>1373</th>\n",
       "      <td>0.000000</td>\n",
       "      <td>0.314187</td>\n",
       "      <td>0.555556</td>\n",
       "      <td>0.314189</td>\n",
       "      <td>0.444444</td>\n",
       "    </tr>\n",
       "    <tr>\n",
       "      <th>679</th>\n",
       "      <td>0.000000</td>\n",
       "      <td>0.631246</td>\n",
       "      <td>0.355556</td>\n",
       "      <td>0.631250</td>\n",
       "      <td>0.111111</td>\n",
       "    </tr>\n",
       "    <tr>\n",
       "      <th>56</th>\n",
       "      <td>0.000000</td>\n",
       "      <td>0.356979</td>\n",
       "      <td>0.503704</td>\n",
       "      <td>0.356926</td>\n",
       "      <td>0.111111</td>\n",
       "    </tr>\n",
       "    <tr>\n",
       "      <th>1993</th>\n",
       "      <td>0.000000</td>\n",
       "      <td>0.613728</td>\n",
       "      <td>0.488889</td>\n",
       "      <td>0.613682</td>\n",
       "      <td>0.000000</td>\n",
       "    </tr>\n",
       "    <tr>\n",
       "      <th>...</th>\n",
       "      <td>...</td>\n",
       "      <td>...</td>\n",
       "      <td>...</td>\n",
       "      <td>...</td>\n",
       "      <td>...</td>\n",
       "    </tr>\n",
       "    <tr>\n",
       "      <th>1095</th>\n",
       "      <td>0.000000</td>\n",
       "      <td>0.780586</td>\n",
       "      <td>0.666667</td>\n",
       "      <td>0.780574</td>\n",
       "      <td>0.111111</td>\n",
       "    </tr>\n",
       "    <tr>\n",
       "      <th>1130</th>\n",
       "      <td>0.000000</td>\n",
       "      <td>0.093337</td>\n",
       "      <td>0.237037</td>\n",
       "      <td>0.093412</td>\n",
       "      <td>0.111111</td>\n",
       "    </tr>\n",
       "    <tr>\n",
       "      <th>1294</th>\n",
       "      <td>0.000000</td>\n",
       "      <td>0.244113</td>\n",
       "      <td>0.340741</td>\n",
       "      <td>0.244088</td>\n",
       "      <td>0.111111</td>\n",
       "    </tr>\n",
       "    <tr>\n",
       "      <th>860</th>\n",
       "      <td>0.000000</td>\n",
       "      <td>0.507180</td>\n",
       "      <td>0.600000</td>\n",
       "      <td>0.507095</td>\n",
       "      <td>0.222222</td>\n",
       "    </tr>\n",
       "    <tr>\n",
       "      <th>3174</th>\n",
       "      <td>0.843137</td>\n",
       "      <td>0.078403</td>\n",
       "      <td>0.688889</td>\n",
       "      <td>0.078378</td>\n",
       "      <td>0.222222</td>\n",
       "    </tr>\n",
       "  </tbody>\n",
       "</table>\n",
       "<p>2666 rows × 5 columns</p>\n",
       "</div>"
      ],
      "text/plain": [
       "      number vmail messages  total day minutes  total day calls  \\\n",
       "817                0.000000           0.266801         0.459259   \n",
       "1373               0.000000           0.314187         0.555556   \n",
       "679                0.000000           0.631246         0.355556   \n",
       "56                 0.000000           0.356979         0.503704   \n",
       "1993               0.000000           0.613728         0.488889   \n",
       "...                     ...                ...              ...   \n",
       "1095               0.000000           0.780586         0.666667   \n",
       "1130               0.000000           0.093337         0.237037   \n",
       "1294               0.000000           0.244113         0.340741   \n",
       "860                0.000000           0.507180         0.600000   \n",
       "3174               0.843137           0.078403         0.688889   \n",
       "\n",
       "      total day charge  customer service calls  \n",
       "817           0.266892                0.222222  \n",
       "1373          0.314189                0.444444  \n",
       "679           0.631250                0.111111  \n",
       "56            0.356926                0.111111  \n",
       "1993          0.613682                0.000000  \n",
       "...                ...                     ...  \n",
       "1095          0.780574                0.111111  \n",
       "1130          0.093412                0.111111  \n",
       "1294          0.244088                0.111111  \n",
       "860           0.507095                0.222222  \n",
       "3174          0.078378                0.222222  \n",
       "\n",
       "[2666 rows x 5 columns]"
      ]
     },
     "execution_count": 17,
     "metadata": {},
     "output_type": "execute_result"
    }
   ],
   "source": [
    "# Instantiate a MinMaxScaler to normalize numerical features\n",
    "scaler = MinMaxScaler()\n",
    "\n",
    "# Fit the scaler to the training data\n",
    "scaler.fit(X_train_numerical)\n",
    "\n",
    "# Transform training set\n",
    "X_train_scaled = pd.DataFrame(\n",
    "    scaler.transform(X_train_numerical),\n",
    "    index=X_train_numerical.index,\n",
    "    columns=X_train_numerical.columns\n",
    ")\n",
    "X_train_scaled"
   ]
  },
  {
   "cell_type": "code",
   "execution_count": 18,
   "metadata": {
    "scrolled": true
   },
   "outputs": [
    {
     "data": {
      "text/html": [
       "<div>\n",
       "<style scoped>\n",
       "    .dataframe tbody tr th:only-of-type {\n",
       "        vertical-align: middle;\n",
       "    }\n",
       "\n",
       "    .dataframe tbody tr th {\n",
       "        vertical-align: top;\n",
       "    }\n",
       "\n",
       "    .dataframe thead th {\n",
       "        text-align: right;\n",
       "    }\n",
       "</style>\n",
       "<table border=\"1\" class=\"dataframe\">\n",
       "  <thead>\n",
       "    <tr style=\"text-align: right;\">\n",
       "      <th></th>\n",
       "      <th>number vmail messages</th>\n",
       "      <th>total day minutes</th>\n",
       "      <th>total day calls</th>\n",
       "      <th>total day charge</th>\n",
       "      <th>customer service calls</th>\n",
       "      <th>no</th>\n",
       "      <th>yes</th>\n",
       "      <th>no</th>\n",
       "      <th>yes</th>\n",
       "    </tr>\n",
       "  </thead>\n",
       "  <tbody>\n",
       "    <tr>\n",
       "      <th>817</th>\n",
       "      <td>0.000000</td>\n",
       "      <td>0.266801</td>\n",
       "      <td>0.459259</td>\n",
       "      <td>0.266892</td>\n",
       "      <td>0.222222</td>\n",
       "      <td>1.0</td>\n",
       "      <td>0.0</td>\n",
       "      <td>1.0</td>\n",
       "      <td>0.0</td>\n",
       "    </tr>\n",
       "    <tr>\n",
       "      <th>1373</th>\n",
       "      <td>0.000000</td>\n",
       "      <td>0.314187</td>\n",
       "      <td>0.555556</td>\n",
       "      <td>0.314189</td>\n",
       "      <td>0.444444</td>\n",
       "      <td>1.0</td>\n",
       "      <td>0.0</td>\n",
       "      <td>1.0</td>\n",
       "      <td>0.0</td>\n",
       "    </tr>\n",
       "    <tr>\n",
       "      <th>679</th>\n",
       "      <td>0.000000</td>\n",
       "      <td>0.631246</td>\n",
       "      <td>0.355556</td>\n",
       "      <td>0.631250</td>\n",
       "      <td>0.111111</td>\n",
       "      <td>0.0</td>\n",
       "      <td>1.0</td>\n",
       "      <td>1.0</td>\n",
       "      <td>0.0</td>\n",
       "    </tr>\n",
       "    <tr>\n",
       "      <th>56</th>\n",
       "      <td>0.000000</td>\n",
       "      <td>0.356979</td>\n",
       "      <td>0.503704</td>\n",
       "      <td>0.356926</td>\n",
       "      <td>0.111111</td>\n",
       "      <td>1.0</td>\n",
       "      <td>0.0</td>\n",
       "      <td>1.0</td>\n",
       "      <td>0.0</td>\n",
       "    </tr>\n",
       "    <tr>\n",
       "      <th>1993</th>\n",
       "      <td>0.000000</td>\n",
       "      <td>0.613728</td>\n",
       "      <td>0.488889</td>\n",
       "      <td>0.613682</td>\n",
       "      <td>0.000000</td>\n",
       "      <td>1.0</td>\n",
       "      <td>0.0</td>\n",
       "      <td>1.0</td>\n",
       "      <td>0.0</td>\n",
       "    </tr>\n",
       "    <tr>\n",
       "      <th>...</th>\n",
       "      <td>...</td>\n",
       "      <td>...</td>\n",
       "      <td>...</td>\n",
       "      <td>...</td>\n",
       "      <td>...</td>\n",
       "      <td>...</td>\n",
       "      <td>...</td>\n",
       "      <td>...</td>\n",
       "      <td>...</td>\n",
       "    </tr>\n",
       "    <tr>\n",
       "      <th>1095</th>\n",
       "      <td>0.000000</td>\n",
       "      <td>0.780586</td>\n",
       "      <td>0.666667</td>\n",
       "      <td>0.780574</td>\n",
       "      <td>0.111111</td>\n",
       "      <td>1.0</td>\n",
       "      <td>0.0</td>\n",
       "      <td>1.0</td>\n",
       "      <td>0.0</td>\n",
       "    </tr>\n",
       "    <tr>\n",
       "      <th>1130</th>\n",
       "      <td>0.000000</td>\n",
       "      <td>0.093337</td>\n",
       "      <td>0.237037</td>\n",
       "      <td>0.093412</td>\n",
       "      <td>0.111111</td>\n",
       "      <td>1.0</td>\n",
       "      <td>0.0</td>\n",
       "      <td>1.0</td>\n",
       "      <td>0.0</td>\n",
       "    </tr>\n",
       "    <tr>\n",
       "      <th>1294</th>\n",
       "      <td>0.000000</td>\n",
       "      <td>0.244113</td>\n",
       "      <td>0.340741</td>\n",
       "      <td>0.244088</td>\n",
       "      <td>0.111111</td>\n",
       "      <td>1.0</td>\n",
       "      <td>0.0</td>\n",
       "      <td>1.0</td>\n",
       "      <td>0.0</td>\n",
       "    </tr>\n",
       "    <tr>\n",
       "      <th>860</th>\n",
       "      <td>0.000000</td>\n",
       "      <td>0.507180</td>\n",
       "      <td>0.600000</td>\n",
       "      <td>0.507095</td>\n",
       "      <td>0.222222</td>\n",
       "      <td>1.0</td>\n",
       "      <td>0.0</td>\n",
       "      <td>1.0</td>\n",
       "      <td>0.0</td>\n",
       "    </tr>\n",
       "    <tr>\n",
       "      <th>3174</th>\n",
       "      <td>0.843137</td>\n",
       "      <td>0.078403</td>\n",
       "      <td>0.688889</td>\n",
       "      <td>0.078378</td>\n",
       "      <td>0.222222</td>\n",
       "      <td>1.0</td>\n",
       "      <td>0.0</td>\n",
       "      <td>0.0</td>\n",
       "      <td>1.0</td>\n",
       "    </tr>\n",
       "  </tbody>\n",
       "</table>\n",
       "<p>2666 rows × 9 columns</p>\n",
       "</div>"
      ],
      "text/plain": [
       "      number vmail messages  total day minutes  total day calls  \\\n",
       "817                0.000000           0.266801         0.459259   \n",
       "1373               0.000000           0.314187         0.555556   \n",
       "679                0.000000           0.631246         0.355556   \n",
       "56                 0.000000           0.356979         0.503704   \n",
       "1993               0.000000           0.613728         0.488889   \n",
       "...                     ...                ...              ...   \n",
       "1095               0.000000           0.780586         0.666667   \n",
       "1130               0.000000           0.093337         0.237037   \n",
       "1294               0.000000           0.244113         0.340741   \n",
       "860                0.000000           0.507180         0.600000   \n",
       "3174               0.843137           0.078403         0.688889   \n",
       "\n",
       "      total day charge  customer service calls   no  yes   no  yes  \n",
       "817           0.266892                0.222222  1.0  0.0  1.0  0.0  \n",
       "1373          0.314189                0.444444  1.0  0.0  1.0  0.0  \n",
       "679           0.631250                0.111111  0.0  1.0  1.0  0.0  \n",
       "56            0.356926                0.111111  1.0  0.0  1.0  0.0  \n",
       "1993          0.613682                0.000000  1.0  0.0  1.0  0.0  \n",
       "...                ...                     ...  ...  ...  ...  ...  \n",
       "1095          0.780574                0.111111  1.0  0.0  1.0  0.0  \n",
       "1130          0.093412                0.111111  1.0  0.0  1.0  0.0  \n",
       "1294          0.244088                0.111111  1.0  0.0  1.0  0.0  \n",
       "860           0.507095                0.222222  1.0  0.0  1.0  0.0  \n",
       "3174          0.078378                0.222222  1.0  0.0  0.0  1.0  \n",
       "\n",
       "[2666 rows x 9 columns]"
      ]
     },
     "execution_count": 18,
     "metadata": {},
     "output_type": "execute_result"
    }
   ],
   "source": [
    "# Concatenate the scaled numerical features and one-hot encoded categorical features to create the full training dataset.\n",
    "X_train_full = pd.concat([X_train_scaled, X_train_ohe], axis=1)\n",
    "X_train_full"
   ]
  },
  {
   "cell_type": "markdown",
   "metadata": {},
   "source": [
    "## Fitting a Logistic Regression Model"
   ]
  },
  {
   "cell_type": "code",
   "execution_count": 19,
   "metadata": {},
   "outputs": [
    {
     "data": {
      "text/plain": [
       "LogisticRegression(C=1000000000000.0, solver='liblinear')"
      ]
     },
     "execution_count": 19,
     "metadata": {},
     "output_type": "execute_result"
    }
   ],
   "source": [
    "from sklearn.linear_model import LogisticRegression\n",
    "\n",
    "# Create a logistic regression model\n",
    "logreg = LogisticRegression(fit_intercept=True, C=1e12, solver='liblinear')\n",
    "\n",
    "# Fit the logistic regression model to the full training dataset \n",
    "model_log = logreg.fit(X_train_full, y_train)\n",
    "model_log"
   ]
  },
  {
   "cell_type": "markdown",
   "metadata": {},
   "source": [
    "## Performance on Training Data"
   ]
  },
  {
   "cell_type": "code",
   "execution_count": 20,
   "metadata": {},
   "outputs": [
    {
     "name": "stdout",
     "output_type": "stream",
     "text": [
      "False    2287\n",
      "True      379\n",
      "Name: Residuals (counts), dtype: int64\n",
      "\n",
      "False    0.857839\n",
      "True     0.142161\n",
      "Name: Residuals (proportions), dtype: float64\n"
     ]
    }
   ],
   "source": [
    "# Predict churn values on the training data\n",
    "y_hat_train = logreg.predict(X_train_full)\n",
    "\n",
    "# Calculate the residuals for the actual and predicted churn values.\n",
    "train_residuals = np.abs(y_train ^ y_hat_train)\n",
    "print(pd.Series(train_residuals, name=\"Residuals (counts)\").value_counts())\n",
    "print()\n",
    "print(pd.Series(train_residuals, name=\"Residuals (proportions)\").value_counts(normalize=True))"
   ]
  },
  {
   "cell_type": "markdown",
   "metadata": {},
   "source": [
    "Not bad; our classifier was about 86% correct on our training data!"
   ]
  },
  {
   "cell_type": "markdown",
   "metadata": {},
   "source": [
    "## Performance on Test Data"
   ]
  },
  {
   "cell_type": "code",
   "execution_count": 21,
   "metadata": {},
   "outputs": [
    {
     "data": {
      "text/html": [
       "<div>\n",
       "<style scoped>\n",
       "    .dataframe tbody tr th:only-of-type {\n",
       "        vertical-align: middle;\n",
       "    }\n",
       "\n",
       "    .dataframe tbody tr th {\n",
       "        vertical-align: top;\n",
       "    }\n",
       "\n",
       "    .dataframe thead th {\n",
       "        text-align: right;\n",
       "    }\n",
       "</style>\n",
       "<table border=\"1\" class=\"dataframe\">\n",
       "  <thead>\n",
       "    <tr style=\"text-align: right;\">\n",
       "      <th></th>\n",
       "      <th>number vmail messages</th>\n",
       "      <th>total day minutes</th>\n",
       "      <th>total day calls</th>\n",
       "      <th>total day charge</th>\n",
       "      <th>customer service calls</th>\n",
       "      <th>no</th>\n",
       "      <th>yes</th>\n",
       "      <th>no</th>\n",
       "      <th>yes</th>\n",
       "    </tr>\n",
       "  </thead>\n",
       "  <tbody>\n",
       "    <tr>\n",
       "      <th>438</th>\n",
       "      <td>0.000000</td>\n",
       "      <td>0.437679</td>\n",
       "      <td>0.466667</td>\n",
       "      <td>0.437669</td>\n",
       "      <td>0.111111</td>\n",
       "      <td>1.0</td>\n",
       "      <td>0.0</td>\n",
       "      <td>1.0</td>\n",
       "      <td>0.0</td>\n",
       "    </tr>\n",
       "    <tr>\n",
       "      <th>2674</th>\n",
       "      <td>0.000000</td>\n",
       "      <td>0.305859</td>\n",
       "      <td>0.644444</td>\n",
       "      <td>0.305912</td>\n",
       "      <td>0.000000</td>\n",
       "      <td>1.0</td>\n",
       "      <td>0.0</td>\n",
       "      <td>1.0</td>\n",
       "      <td>0.0</td>\n",
       "    </tr>\n",
       "    <tr>\n",
       "      <th>1345</th>\n",
       "      <td>0.000000</td>\n",
       "      <td>-0.007467</td>\n",
       "      <td>-0.222222</td>\n",
       "      <td>-0.007432</td>\n",
       "      <td>0.444444</td>\n",
       "      <td>1.0</td>\n",
       "      <td>0.0</td>\n",
       "      <td>1.0</td>\n",
       "      <td>0.0</td>\n",
       "    </tr>\n",
       "    <tr>\n",
       "      <th>1957</th>\n",
       "      <td>0.000000</td>\n",
       "      <td>0.603676</td>\n",
       "      <td>0.362963</td>\n",
       "      <td>0.603716</td>\n",
       "      <td>0.111111</td>\n",
       "      <td>1.0</td>\n",
       "      <td>0.0</td>\n",
       "      <td>1.0</td>\n",
       "      <td>0.0</td>\n",
       "    </tr>\n",
       "    <tr>\n",
       "      <th>2148</th>\n",
       "      <td>0.000000</td>\n",
       "      <td>0.406088</td>\n",
       "      <td>0.533333</td>\n",
       "      <td>0.406081</td>\n",
       "      <td>0.111111</td>\n",
       "      <td>1.0</td>\n",
       "      <td>0.0</td>\n",
       "      <td>1.0</td>\n",
       "      <td>0.0</td>\n",
       "    </tr>\n",
       "    <tr>\n",
       "      <th>...</th>\n",
       "      <td>...</td>\n",
       "      <td>...</td>\n",
       "      <td>...</td>\n",
       "      <td>...</td>\n",
       "      <td>...</td>\n",
       "      <td>...</td>\n",
       "      <td>...</td>\n",
       "      <td>...</td>\n",
       "      <td>...</td>\n",
       "    </tr>\n",
       "    <tr>\n",
       "      <th>2577</th>\n",
       "      <td>0.000000</td>\n",
       "      <td>0.524124</td>\n",
       "      <td>0.459259</td>\n",
       "      <td>0.524155</td>\n",
       "      <td>0.222222</td>\n",
       "      <td>1.0</td>\n",
       "      <td>0.0</td>\n",
       "      <td>1.0</td>\n",
       "      <td>0.0</td>\n",
       "    </tr>\n",
       "    <tr>\n",
       "      <th>2763</th>\n",
       "      <td>0.372549</td>\n",
       "      <td>0.439690</td>\n",
       "      <td>0.548148</td>\n",
       "      <td>0.439696</td>\n",
       "      <td>0.333333</td>\n",
       "      <td>1.0</td>\n",
       "      <td>0.0</td>\n",
       "      <td>0.0</td>\n",
       "      <td>1.0</td>\n",
       "    </tr>\n",
       "    <tr>\n",
       "      <th>3069</th>\n",
       "      <td>0.509804</td>\n",
       "      <td>0.448306</td>\n",
       "      <td>0.451852</td>\n",
       "      <td>0.448311</td>\n",
       "      <td>0.111111</td>\n",
       "      <td>1.0</td>\n",
       "      <td>0.0</td>\n",
       "      <td>0.0</td>\n",
       "      <td>1.0</td>\n",
       "    </tr>\n",
       "    <tr>\n",
       "      <th>1468</th>\n",
       "      <td>0.529412</td>\n",
       "      <td>0.329983</td>\n",
       "      <td>0.533333</td>\n",
       "      <td>0.330068</td>\n",
       "      <td>0.333333</td>\n",
       "      <td>1.0</td>\n",
       "      <td>0.0</td>\n",
       "      <td>0.0</td>\n",
       "      <td>1.0</td>\n",
       "    </tr>\n",
       "    <tr>\n",
       "      <th>582</th>\n",
       "      <td>0.000000</td>\n",
       "      <td>0.464101</td>\n",
       "      <td>0.585185</td>\n",
       "      <td>0.464020</td>\n",
       "      <td>0.111111</td>\n",
       "      <td>1.0</td>\n",
       "      <td>0.0</td>\n",
       "      <td>1.0</td>\n",
       "      <td>0.0</td>\n",
       "    </tr>\n",
       "  </tbody>\n",
       "</table>\n",
       "<p>667 rows × 9 columns</p>\n",
       "</div>"
      ],
      "text/plain": [
       "      number vmail messages  total day minutes  total day calls  \\\n",
       "438                0.000000           0.437679         0.466667   \n",
       "2674               0.000000           0.305859         0.644444   \n",
       "1345               0.000000          -0.007467        -0.222222   \n",
       "1957               0.000000           0.603676         0.362963   \n",
       "2148               0.000000           0.406088         0.533333   \n",
       "...                     ...                ...              ...   \n",
       "2577               0.000000           0.524124         0.459259   \n",
       "2763               0.372549           0.439690         0.548148   \n",
       "3069               0.509804           0.448306         0.451852   \n",
       "1468               0.529412           0.329983         0.533333   \n",
       "582                0.000000           0.464101         0.585185   \n",
       "\n",
       "      total day charge  customer service calls   no  yes   no  yes  \n",
       "438           0.437669                0.111111  1.0  0.0  1.0  0.0  \n",
       "2674          0.305912                0.000000  1.0  0.0  1.0  0.0  \n",
       "1345         -0.007432                0.444444  1.0  0.0  1.0  0.0  \n",
       "1957          0.603716                0.111111  1.0  0.0  1.0  0.0  \n",
       "2148          0.406081                0.111111  1.0  0.0  1.0  0.0  \n",
       "...                ...                     ...  ...  ...  ...  ...  \n",
       "2577          0.524155                0.222222  1.0  0.0  1.0  0.0  \n",
       "2763          0.439696                0.333333  1.0  0.0  0.0  1.0  \n",
       "3069          0.448311                0.111111  1.0  0.0  0.0  1.0  \n",
       "1468          0.330068                0.333333  1.0  0.0  0.0  1.0  \n",
       "582           0.464020                0.111111  1.0  0.0  1.0  0.0  \n",
       "\n",
       "[667 rows x 9 columns]"
      ]
     },
     "execution_count": 21,
     "metadata": {},
     "output_type": "execute_result"
    }
   ],
   "source": [
    "# Copy the test data for preprocessing.\n",
    "X_test_copy = X_test.copy()\n",
    "\n",
    "# Extract and preprocess categorical features for the test set, applying One-Hot Encoding.\n",
    "X_test_categorical = X_test_copy[categorical_features].copy()\n",
    "X_test_ohe = pd.DataFrame(\n",
    "    ohe.transform(X_test_categorical),\n",
    "    index=X_test_categorical.index,\n",
    "    columns=np.hstack(ohe.categories_)\n",
    ")\n",
    "\n",
    "# Extract and normalize numerical features for the test set.\n",
    "X_test_numerical = X_test_copy[numerical_features].copy()\n",
    "X_test_scaled = pd.DataFrame(\n",
    "    scaler.transform(X_test_numerical),\n",
    "    index=X_test_numerical.index,\n",
    "    columns=X_test_numerical.columns\n",
    ")\n",
    "\n",
    "# Concatenate the preprocessed categorical and numeric data to create the test data.\n",
    "X_test_full = pd.concat([X_test_scaled, X_test_ohe], axis=1)\n",
    "X_test_full"
   ]
  },
  {
   "cell_type": "code",
   "execution_count": 22,
   "metadata": {},
   "outputs": [
    {
     "name": "stdout",
     "output_type": "stream",
     "text": [
      "False    566\n",
      "True     101\n",
      "Name: Residuals (counts), dtype: int64\n",
      "\n",
      "False    0.848576\n",
      "True     0.151424\n",
      "Name: Residuals (proportions), dtype: float64\n"
     ]
    }
   ],
   "source": [
    "# Predict churn values on the testing data\n",
    "y_hat_test = logreg.predict(X_test_full)\n",
    "\n",
    "# Calculate the residuals for the actual and predicted churn values.\n",
    "test_residuals = np.abs(y_test ^ y_hat_test)\n",
    "print(pd.Series(test_residuals, name=\"Residuals (counts)\").value_counts())\n",
    "print()\n",
    "print(pd.Series(test_residuals, name=\"Residuals (proportions)\").value_counts(normalize=True))"
   ]
  },
  {
   "cell_type": "markdown",
   "metadata": {},
   "source": [
    "And still about 85% accurate on our test data!"
   ]
  },
  {
   "cell_type": "markdown",
   "metadata": {},
   "source": [
    "## Evaluating the Logistic Regression Model"
   ]
  },
  {
   "cell_type": "code",
   "execution_count": 23,
   "metadata": {
    "scrolled": true
   },
   "outputs": [
    {
     "name": "stdout",
     "output_type": "stream",
     "text": [
      "Non-Balanced Logistic Regression Evaluation Metrics:\n",
      "Testing_1 Precision:  0.5\n",
      "Testing_1 Recall:  0.15841584158415842\n",
      "Testing_1 Accuracy:  0.848575712143928\n",
      "Testing_1 F1-Score:  0.24060150375939848\n",
      "Testing_1 ROC AUC Score:  0.8158170940768988\n"
     ]
    }
   ],
   "source": [
    "# Output evaluation results for the non-balanced logistic regression model\n",
    "print(\"Non-Balanced Logistic Regression Evaluation Metrics:\")\n",
    "print('Testing_1 Precision: ', precision_score(y_test, y_hat_test))\n",
    "print('Testing_1 Recall: ', recall_score(y_test, y_hat_test))\n",
    "print('Testing_1 Accuracy: ', accuracy_score(y_test, y_hat_test))\n",
    "print('Testing_1 F1-Score: ', f1_score(y_test, y_hat_test))\n",
    "print('Testing_1 ROC AUC Score: ', roc_auc_score(y_test, model_log.decision_function(X_test_full)))"
   ]
  },
  {
   "cell_type": "code",
   "execution_count": 24,
   "metadata": {},
   "outputs": [
    {
     "name": "stdout",
     "output_type": "stream",
     "text": [
      "\n",
      "AUC is :0.57\n"
     ]
    }
   ],
   "source": [
    "# Check the AUC for predictions\n",
    "false_positive_rate, true_positive_rate, thresholds = roc_curve(y_test, y_hat_test)\n",
    "roc_auc = auc(false_positive_rate, true_positive_rate)\n",
    "print('\\nAUC is :{0}'.format(round(roc_auc, 2)))"
   ]
  },
  {
   "cell_type": "markdown",
   "metadata": {},
   "source": [
    "The model's precision on both the training and testing datasets is relatively low. This indicates that a substantial number of the positive predictions made by the model are incorrect or false positives. \n",
    "\n",
    "The recall scores for both training and testing data are also quite low. This means that the model is not effectively capturing a significant portion of the actual positive cases. It misses many positive instances, leading to a high number of false negatives.\n",
    "\n",
    "Accuracy, while relatively high, can be misleading. It's important to consider that a high accuracy score may be due to class imbalance, especially if one class significantly outweighs the other. This metric alone might not accurately represent the model's performance.\n",
    "\n",
    "The F1-score is a balance between precision and recall and takes into account the trade-off between false positives and false negatives. Both the training and testing F1-scores are relatively low, indicating that there's room for improvement in balancing precision and recall.\n",
    "\n",
    "An AUC of 0.57 suggests that the model's performance in distinguishing between the two classes is only slightly better than random chance. In other words, the model's predictions are not highly reliable or effective at classifying instances.\n",
    "\n",
    "The ROC AUC Score of approximately 0.8158 (for the testing data) indicates that the model demonstrates reasonably good discriminatory power in distinguishing between positive and negative classes. This suggests that this model can effectively separate cases of churn (positive) from non-churn (negative) customers.This model generalizes well to new, unseen data, as indicated by the consistency of performance between the training and testing sets, providing confidence in its real-world applicability."
   ]
  },
  {
   "cell_type": "code",
   "execution_count": 25,
   "metadata": {},
   "outputs": [],
   "source": [
    "from sklearn.preprocessing import StandardScaler\n",
    "\n",
    "# Scale and normalize numerical features\n",
    "scaler = StandardScaler()\n",
    "X_train_scaled = scaler.fit_transform(X_train_full)\n",
    "X_test_scaled = scaler.transform(X_test_full)"
   ]
  },
  {
   "cell_type": "code",
   "execution_count": 26,
   "metadata": {},
   "outputs": [],
   "source": [
    "from imblearn.over_sampling import SMOTE\n",
    "\n",
    "# Oversample the minority class using SMOTE\n",
    "smote = SMOTE(sampling_strategy='auto', random_state=42)\n",
    "X_train_resampled, y_train_resampled = smote.fit_resample(X_train_scaled, y_train)"
   ]
  },
  {
   "cell_type": "code",
   "execution_count": 27,
   "metadata": {},
   "outputs": [
    {
     "data": {
      "text/plain": [
       "LogisticRegression(C=0.001, solver='liblinear')"
      ]
     },
     "execution_count": 27,
     "metadata": {},
     "output_type": "execute_result"
    }
   ],
   "source": [
    "from sklearn.model_selection import GridSearchCV\n",
    "\n",
    "# Create a hyperparameter grid for tuning\n",
    "param_grid = {\n",
    "    'C': [0.001, 0.01, 0.1, 1, 10, 100],\n",
    "    'solver': ['liblinear', 'lbfgs']\n",
    "}\n",
    "\n",
    "# Create the logistic regression model\n",
    "log_reg = LogisticRegression()\n",
    "\n",
    "# Perform grid search with cross-validation\n",
    "grid_search = GridSearchCV(log_reg, param_grid, cv=5, scoring='f1', n_jobs=-1)\n",
    "grid_search.fit(X_train_resampled, y_train_resampled)\n",
    "\n",
    "# Get the best hyperparameters\n",
    "best_params = grid_search.best_params_\n",
    "\n",
    "# Train the model with the best hyperparameters\n",
    "best_logreg = LogisticRegression(**best_params)\n",
    "best_logreg.fit(X_train_resampled, y_train_resampled)"
   ]
  },
  {
   "cell_type": "code",
   "execution_count": 28,
   "metadata": {},
   "outputs": [
    {
     "name": "stdout",
     "output_type": "stream",
     "text": [
      "Balanced Logistic Regression Evaluation Metrics:\n",
      "Testing_2 Accuracy: 0.7271364317841079\n",
      "Testing_2 Precision: 0.3333333333333333\n",
      "Testing_2 Recall: 0.801980198019802\n",
      "Testing_2 F1 Score: 0.4709302325581396\n",
      "Testing_2 ROC AUC: 0.8109715565196095\n"
     ]
    }
   ],
   "source": [
    "# Predict on the testing set\n",
    "y_pred = best_logreg.predict(X_test_scaled)\n",
    "\n",
    "# Calculate evaluation metrics\n",
    "accuracy = accuracy_score(y_test, y_pred)\n",
    "precision = precision_score(y_test, y_pred)\n",
    "recall = recall_score(y_test, y_pred)\n",
    "f1 = f1_score(y_test, y_pred)\n",
    "roc_auc = roc_auc_score(y_test, best_logreg.predict_proba(X_test_scaled)[:, 1])\n",
    "\n",
    "# Output evaluation results for the balanced logistic regression model\n",
    "print(\"Balanced Logistic Regression Evaluation Metrics:\")\n",
    "print(\"Testing_2 Accuracy:\", accuracy)\n",
    "print(\"Testing_2 Precision:\", precision)\n",
    "print(\"Testing_2 Recall:\", recall)\n",
    "print(\"Testing_2 F1 Score:\", f1)\n",
    "print(\"Testing_2 ROC AUC:\", roc_auc)"
   ]
  },
  {
   "cell_type": "markdown",
   "metadata": {},
   "source": [
    "In comparing the two testing datasets, it becomes evident that they embody a fundamental trade-off between precision and recall. Testing Set 1 shines with higher accuracy and precision, making it a preferable choice when minimizing false positives. With its ability to deliver more reliable positive predictions, this set proves effective for scenarios where precision is a top priority. In contrast, Testing Set 2 excels in recall, capturing a larger proportion of true positive cases. It is the ideal choice when correctly identifying positive cases as it takes precedence, even if it results in more false positives. Both datasets exhibit commendable ROC AUC scores, indicating their capacity to effectively discriminate between positive and negative cases."
   ]
  },
  {
   "cell_type": "markdown",
   "metadata": {},
   "source": [
    "## Training the Decision Tree"
   ]
  },
  {
   "cell_type": "code",
   "execution_count": 29,
   "metadata": {},
   "outputs": [
    {
     "data": {
      "text/plain": [
       "DecisionTreeClassifier(criterion='entropy', random_state=10)"
      ]
     },
     "execution_count": 29,
     "metadata": {},
     "output_type": "execute_result"
    }
   ],
   "source": [
    "# Create the classifier and fit it on the training data\n",
    "clf = DecisionTreeClassifier(criterion='entropy', random_state=10)\n",
    "\n",
    "clf.fit(X_train_full, y_train)"
   ]
  },
  {
   "cell_type": "code",
   "execution_count": 30,
   "metadata": {},
   "outputs": [],
   "source": [
    "# Make predictions for test data\n",
    "y_pred = clf.predict(X_test_full)"
   ]
  },
  {
   "cell_type": "code",
   "execution_count": 31,
   "metadata": {},
   "outputs": [
    {
     "name": "stdout",
     "output_type": "stream",
     "text": [
      "Non-Balanced Decision Tree Evaluation Metrics:\n",
      "Testing Accuracy: 0.8275862068965517\n",
      "Testing Precision: 0.4166666666666667\n",
      "Testing Recall: 0.3465346534653465\n",
      "Testing F1 Score: 0.3783783783783784\n",
      "Testing ROC AUC: 0.629403841444215\n"
     ]
    }
   ],
   "source": [
    "# Evaluate on the testing set\n",
    "accuracy_test = accuracy_score(y_test, y_pred)\n",
    "precision_test = precision_score(y_test, y_pred)\n",
    "recall_test = recall_score(y_test, y_pred)\n",
    "f1_test = f1_score(y_test, y_pred)\n",
    "roc_auc_test = roc_auc_score(y_test, clf.predict_proba(X_test_full)[:, 1])\n",
    "\n",
    "# Output evaluation results for the non-balanced decision tree model\n",
    "print(\"Non-Balanced Decision Tree Evaluation Metrics:\")\n",
    "print(\"Testing Accuracy:\", accuracy_test)\n",
    "print(\"Testing Precision:\", precision_test)\n",
    "print(\"Testing Recall:\", recall_test)\n",
    "print(\"Testing F1 Score:\", f1_test)\n",
    "print(\"Testing ROC AUC:\", roc_auc_test)"
   ]
  },
  {
   "cell_type": "markdown",
   "metadata": {},
   "source": [
    "The model exhibits good overall correctness in its predictions on the testing data, correctly classifying approximately 82.76% of cases. However, accuracy alone may not be sufficient to evaluate this model, especially as the dataset is imbalanced. \n",
    "\n",
    "The precision score of approximately 41.67% indicates that the model correctly identifies a relatively low percentage of true churn cases among its positive predictions. \n",
    "\n",
    "The recall score of about 34.65% suggests that the model correctly identifies a modest percentage of true churn cases out of all actual churn cases. Improving recall is important to reduce the number of false negatives.\n",
    "\n",
    "The F1 score, which balances precision and recall, is approximately 37.84%. This indicates that there is a trade-off between precision and recall, and achieving a better balance between the two is desirable.\n",
    "\n",
    "The ROC AUC score of around 62.94% suggests moderate discrimination ability. The model can differentiate to some extent between churn and non-churn customers, but there is potential for improvement in this aspect."
   ]
  },
  {
   "cell_type": "code",
   "execution_count": 32,
   "metadata": {},
   "outputs": [
    {
     "data": {
      "text/plain": [
       "<sklearn.metrics._plot.confusion_matrix.ConfusionMatrixDisplay at 0x265dd4e7ee0>"
      ]
     },
     "execution_count": 32,
     "metadata": {},
     "output_type": "execute_result"
    },
    {
     "data": {
      "image/png": "[encoded data removed]",
      "text/plain": [
       "<Figure size 432x288 with 2 Axes>"
      ]
     },
     "metadata": {
      "needs_background": "light"
     },
     "output_type": "display_data"
    }
   ],
   "source": [
    "# confusion matrix\n",
    "from sklearn.metrics import ConfusionMatrixDisplay, confusion_matrix\n",
    "\n",
    "cnf_matrix = confusion_matrix(y_test, y_pred)\n",
    "disp = ConfusionMatrixDisplay(confusion_matrix=cnf_matrix, display_labels=clf.classes_)\n",
    "disp.plot(cmap=plt.cm.Blues)"
   ]
  },
  {
   "cell_type": "code",
   "execution_count": 33,
   "metadata": {},
   "outputs": [
    {
     "data": {
      "text/plain": [
       "DecisionTreeClassifier(class_weight='balanced', criterion='entropy',\n",
       "                       random_state=10)"
      ]
     },
     "execution_count": 33,
     "metadata": {},
     "output_type": "execute_result"
    }
   ],
   "source": [
    "# Create a Decision Tree classifier with balanced class weights to address class imbalance.\n",
    "balanced_tree = DecisionTreeClassifier(class_weight='balanced', criterion='entropy', random_state=10)\n",
    "\n",
    "# Fit the Decision Tree model\n",
    "balanced_tree.fit(X_train_full, y_train)"
   ]
  },
  {
   "cell_type": "code",
   "execution_count": 34,
   "metadata": {},
   "outputs": [
    {
     "name": "stdout",
     "output_type": "stream",
     "text": [
      "Balanced Decision Tree Evaluation Metrics:\n",
      "Testing Accuracy: 0.8305847076461769\n",
      "Testing Precision: 0.43023255813953487\n",
      "Testing Recall: 0.36633663366336633\n",
      "Testing F1 Score: 0.39572192513368987\n",
      "Testing ROC AUC: 0.6402057166847427\n"
     ]
    }
   ],
   "source": [
    "# Make predictions for the test data using the balanced decision tree model\n",
    "y_balanced_tree_pred = balanced_tree.predict(X_test_full)\n",
    "\n",
    "# Calculate evaluation metrics for the balanced decision tree model\n",
    "accuracy_balanced_tree = accuracy_score(y_test, y_balanced_tree_pred)\n",
    "precision_balanced_tree = precision_score(y_test, y_balanced_tree_pred)\n",
    "recall_balanced_tree = recall_score(y_test, y_balanced_tree_pred)\n",
    "f1_balanced_tree = f1_score(y_test, y_balanced_tree_pred)\n",
    "roc_auc_balanced_tree = roc_auc_score(y_test, balanced_tree.predict_proba(X_test_full)[:, 1])\n",
    "\n",
    "# Output evaluation results for the balanced decision tree model\n",
    "print(\"Balanced Decision Tree Evaluation Metrics:\")\n",
    "print(\"Testing Accuracy:\", accuracy_balanced_tree)\n",
    "print(\"Testing Precision:\", precision_balanced_tree)\n",
    "print(\"Testing Recall:\", recall_balanced_tree)\n",
    "print(\"Testing F1 Score:\", f1_balanced_tree)\n",
    "print(\"Testing ROC AUC:\", roc_auc_balanced_tree)"
   ]
  },
  {
   "cell_type": "markdown",
   "metadata": {},
   "source": [
    "The balanced decision tree shows a higher recall (0.3663) compared to the non-balanced decision tree (0.3465). This indicates that the balanced model is better at capturing true positive cases, which is essential in reducing false negatives.\n",
    "\n",
    "The balanced decision tree exhibited better precision (0.4302) compared to the non-balanced decision tree (0.4167). This means that when the balanced model predicts the positive class, it is correct more often, reducing the rate of false positives.\n",
    "\n",
    "The balanced decision tree's F1 score (0.3957) was slightly higher than that of the non-balanced decision tree (0.3784). The F1 score provides a balanced measure of precision and recall, and the balanced model achieved a better balance between these two metrics.\n",
    "\n",
    "The non-balanced decision tree had a slightly higher accuracy (0.8276) compared to the balanced decision tree (0.8306). However, accuracy alone can be misleading, especially in imbalanced datasets, as it may not reflect the model's ability to handle minority class cases.\n",
    "\n",
    "The balanced decision tree exhibited a higher ROC AUC score (0.6402) compared to the non-balanced decision tree (0.6294). This suggests that the balanced model has a better ability to discriminate between the two classes."
   ]
  },
  {
   "cell_type": "markdown",
   "metadata": {},
   "source": [
    "## Training a Random Forest"
   ]
  },
  {
   "cell_type": "code",
   "execution_count": 35,
   "metadata": {},
   "outputs": [
    {
     "data": {
      "text/plain": [
       "RandomForestClassifier(random_state=10)"
      ]
     },
     "execution_count": 35,
     "metadata": {},
     "output_type": "execute_result"
    }
   ],
   "source": [
    "from sklearn.ensemble import RandomForestClassifier\n",
    "\n",
    "# Create a Random Forest classifier with 100 decision trees.\n",
    "rf = RandomForestClassifier(n_estimators=100, random_state=10)\n",
    "\n",
    "# Fit the Random Forest model using the preprocessed training data.\n",
    "rf.fit(X_train_full, y_train)"
   ]
  },
  {
   "cell_type": "code",
   "execution_count": 36,
   "metadata": {
    "scrolled": true
   },
   "outputs": [
    {
     "name": "stdout",
     "output_type": "stream",
     "text": [
      "Testing Accuracy: 0.8740629685157422\n",
      "Testing Precision: 0.6268656716417911\n",
      "Testing Recall: 0.4158415841584158\n",
      "Testing F1 Score: 0.5\n",
      "Testing ROC AUC: 0.8616135465136618\n"
     ]
    }
   ],
   "source": [
    "# make predictions for the RandomForest\n",
    "y_rf_pred = rf.predict(X_test_full)\n",
    "\n",
    "accuracy_rf = accuracy_score(y_test, y_rf_pred)\n",
    "precision_rf = precision_score(y_test, y_rf_pred)\n",
    "recall_rf = recall_score(y_test, y_rf_pred)\n",
    "f1_rf = f1_score(y_test, y_rf_pred)\n",
    "roc_auc_rf = roc_auc_score(y_test, rf.predict_proba(X_test_full)[:, 1])\n",
    "\n",
    "# Output evaluation results for the Random Forest model\n",
    "print(\"Testing Accuracy:\", accuracy_rf)\n",
    "print(\"Testing Precision:\", precision_rf)\n",
    "print(\"Testing Recall:\", recall_rf)\n",
    "print(\"Testing F1 Score:\", f1_rf)\n",
    "print(\"Testing ROC AUC:\", roc_auc_rf)"
   ]
  },
  {
   "cell_type": "markdown",
   "metadata": {},
   "source": [
    "The Random Forest model outperforms the non-balanced Decision Tree in terms of accuracy, achieving an accuracy of 0.8741 compared to the Decision Tree's accuracy of 0.8276. This indicates that the Random Forest correctly classifies a higher percentage of samples in the testing data.\n",
    "\n",
    "The Random Forest model demonstrates better precision, with a precision score of 0.6269, compared to the non-balanced Decision Tree's precision score of 0.4167. This means that the Random Forest's positive predictions are correct more often.\n",
    "\n",
    "Both models have relatively balanced recall scores, which means they trade off well between minimizing false negatives and capturing true positives. The non-balanced Decision Tree achieves a slightly higher recall.\n",
    "\n",
    "The Random Forest model attains a higher F1 score of 0.5000, indicating a better balance between precision and recall. The non-balanced Decision Tree has an F1 score of 0.3784.\n",
    "\n",
    "The Random Forest model demonstrates significantly better discrimination between the two classes, as indicated by the higher ROC AUC score (0.8616) compared to the Decision Tree (0.6294)."
   ]
  },
  {
   "cell_type": "markdown",
   "metadata": {},
   "source": [
    "## Comparing the Models"
   ]
  },
  {
   "cell_type": "markdown",
   "metadata": {},
   "source": [
    "The Random Forest model outperforms all the other models in terms of accuracy, precision, and F1 score, achieving the highest accuracy of 87.41%. It demonstrates the best balance between precision and recall (F1 score) at 50.00%.\n",
    "\n",
    "The Balanced Decision Tree model, although not as strong as Random Forest, still provides an improvement over the non-balanced Decision Tree. It achieves an accuracy of 83.06% and a balanced F1 score of 39.57%.\n",
    "\n",
    "The Non-Balanced Decision Tree model performs moderately well but struggles with capturing actual churn cases. It has a lower recall and a lower F1 score compared to the balanced decision tree.\n",
    "\n",
    "The Balanced Logistic Regression model with SMOTE oversampling shows improved recall but sacrifices precision. It may be suitable when higher recall is desired.\n",
    "\n",
    "The Non-Balanced Logistic Regression model performs the weakest in terms of recall and F1 score\n",
    "\n",
    "The Random Forest model is the best performer among the models tested, offering a good balance of accuracy and recall. It is recommended for use in predicting customer churn in the competitive telecom market that SyriaTel faces."
   ]
  },
  {
   "cell_type": "markdown",
   "metadata": {},
   "source": [
    "## Conclusion"
   ]
  },
  {
   "cell_type": "markdown",
   "metadata": {},
   "source": [
    "1. Key Churn Factors:\n",
    "\n",
    "The analysis of the dataset columns reveals that several factors play a crucial role in understanding customer churn within SyriaTel.\n",
    "\"Number vmail messages\" and \"customer service calls\" emerge as critical indicators of potential churn, suggesting that customer dissatisfaction and interactions with customer service significantly influence attrition.\n",
    "\n",
    "2. Usage Patterns Impact Churn:\n",
    "\n",
    "Features such as \"total day minutes,\" \"total day calls,\" and \"total day charge\" provide insights into customer usage patterns. High usage, especially in daytime, may lead to increased billing and dissatisfaction, contributing to churn.\n",
    "\n",
    "3. Plan Choices Matter:\n",
    "\n",
    "The availability of \"international plan\" and \"voice mail plan\" as binary features signifies that customers' plan choices can have a notable impact on churn."
   ]
  },
  {
   "cell_type": "markdown",
   "metadata": {},
   "source": [
    "## Recommendations"
   ]
  },
  {
   "cell_type": "markdown",
   "metadata": {},
   "source": [
    "1. Customer-Centric Approach:\n",
    "\n",
    "To mitigate the challenge of escalating churn rates, SyriaTel should adopt a customer-centric approach.\n",
    "Focus on customer satisfaction, especially for those with a high number of \"customer service calls.\" Provide prompt and effective solutions to address their concerns.\n",
    "\n",
    "2. Transparency and Communication:\n",
    "\n",
    "Enhance billing transparency and communication for customers with high \"total day minutes,\" \"total day calls,\" and \"total day charge.\" This can help manage expectations and reduce dissatisfaction.\n",
    "\n",
    "3. Plan Customization:\n",
    "\n",
    "Enable customers to customize their plans, especially with respect to \"international plan\" and \"voice mail plan.\" Providing flexibility can help align services with individual preferences, reducing the likelihood of churn.\n",
    "\n",
    "4. Monitoring and Predictive Insights:\n",
    "\n",
    "Continuously monitor the specified features and usage patterns to identify early signs of dissatisfaction and churn.\n",
    "Implement predictive churn models based on these features. Machine learning models like logistic regression, decision trees, and Random Forest can help SyriaTel anticipate potential churn and take proactive measures to retain at-risk customers.\n",
    "\n",
    "5. Feedback Mechanism:\n",
    "\n",
    "Establish a feedback mechanism to collect input from customers who exhibit characteristics associated with churn. This feedback can be invaluable in pinpointing specific areas of dissatisfaction and driving targeted improvements.\n",
    "\n",
    "6. Strategic Decision-Making:\n",
    "\n",
    "Use the insights from the dataset and predictive models to inform strategic decision-making. Optimize service offerings, align marketing strategies, and ensure SyriaTel remains competitive in the telecommunications industry."
   ]
  }
 ],
 "metadata": {
  "kernelspec": {
   "display_name": "Python 3",
   "language": "python",
   "name": "python3"
  },
  "language_info": {
   "codemirror_mode": {
    "name": "ipython",
    "version": 3
   },
   "file_extension": ".py",
   "mimetype": "text/x-python",
   "name": "python",
   "nbconvert_exporter": "python",
   "pygments_lexer": "ipython3",
   "version": "3.8.5"
  }
 },
 "nbformat": 4,
 "nbformat_minor": 4
}
